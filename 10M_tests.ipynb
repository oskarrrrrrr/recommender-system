{
 "cells": [
  {
   "cell_type": "code",
   "execution_count": 1,
   "metadata": {},
   "outputs": [],
   "source": [
    "import tester as t\n",
    "\n",
    "import pandas as pd\n",
    "import numpy as np\n",
    "\n",
    "np.seterr(divide='ignore', invalid='ignore')\n",
    "\n",
    "from surprise import SVD, SVDpp, KNNBasic, NMF"
   ]
  },
  {
   "cell_type": "code",
   "execution_count": 3,
   "metadata": {},
   "outputs": [
    {
     "name": "stdout",
     "output_type": "stream",
     "text": [
      "   userId  movieId  rating           timestamp\n",
      "0       1      122     5.0 1996-08-02 11:24:06\n",
      "1       1      185     5.0 1996-08-02 10:58:45\n",
      "2       1      231     5.0 1996-08-02 10:56:32\n"
     ]
    }
   ],
   "source": [
    "from movie_lens_data import get_movie_lens\n",
    "\n",
    "ml_ratings_10m_df = get_movie_lens('10m')\n",
    "ml_ratings_10m_df['timestamp'] = \\\n",
    "    pd.to_datetime(ml_ratings_10m_df['timestamp'], unit='s')\n",
    "print(ml_ratings_10m_df.head(3))\n"
   ]
  },
  {
   "cell_type": "markdown",
   "metadata": {},
   "source": [
    "# SVD"
   ]
  },
  {
   "cell_type": "code",
   "execution_count": 4,
   "metadata": {},
   "outputs": [],
   "source": [
    "def test_svd(df, splitter, filename, args_dict):\n",
    "    tester = t.Tester(\n",
    "        score_functions=t.all_score_functions, train_test_iter=splitter,\n",
    "        df=df, df2ds=t.movielens_df2ds\n",
    "    )\n",
    "\n",
    "    tester.test([\n",
    "        t.TestCase(alg=SVD(**args), args=args, filename=filename)\n",
    "        for args in args_dict\n",
    "    ])\n",
    "\n",
    "def test_all_svd(df, filename, args):\n",
    "    '''\n",
    "    test_svd(\n",
    "        df,\n",
    "        t.CrossValidTrainTestProvider(),\n",
    "        f'new_tests/cross_valid/{filename}.csv',\n",
    "    )\n",
    "    '''\n",
    "    test_svd(\n",
    "        df,\n",
    "        t.NaiveTailTrainTestProvider(tail_len=int(0.1*len(df))),\n",
    "        f'new_tests/tail_cut_off/{filename}.csv',\n",
    "        args,\n",
    "    )\n",
    "    test_svd(\n",
    "        df,\n",
    "        t.ColdStartTrainTestProvider(users_num=5000, head_len=10),\n",
    "        f'new_tests/cold_start/{filename}.csv',\n",
    "        args,\n",
    "    )"
   ]
  },
  {
   "cell_type": "code",
   "execution_count": null,
   "metadata": {},
   "outputs": [
    {
     "name": "stdout",
     "output_type": "stream",
     "text": [
      "Starting tests...\n",
      "Number of tests: 9\n",
      "Splitter: NaiveTailTrainTestProvider\n",
      "Scoring functions: rmse, mse, mae, precision, rmse_4_5, mae_4_5, mae_4_5_unsym\n",
      "Results will be saved to files.\n",
      ".........\n"
     ]
    }
   ],
   "source": [
    "svd_args_dict = [\n",
    "    dict(\n",
    "        n_factors=n_factors,\n",
    "        n_epochs=n_epochs,\n",
    "    )\n",
    "    for n_factors in [15, 25, 50]\n",
    "    for n_epochs in [5, 10, 25]\n",
    "]\n",
    "\n",
    "test_all_svd(ml_ratings_10m_df, 'SVD_10M', svd_args_dict)"
   ]
  }
 ],
 "metadata": {
  "kernelspec": {
   "display_name": "Python 3",
   "language": "python",
   "name": "python3"
  },
  "language_info": {
   "codemirror_mode": {
    "name": "ipython",
    "version": 3
   },
   "file_extension": ".py",
   "mimetype": "text/x-python",
   "name": "python",
   "nbconvert_exporter": "python",
   "pygments_lexer": "ipython3",
   "version": "3.7.3"
  }
 },
 "nbformat": 4,
 "nbformat_minor": 4
}
