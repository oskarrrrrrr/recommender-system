{
 "cells": [
  {
   "cell_type": "markdown",
   "metadata": {},
   "source": [
    "# movie lens viz"
   ]
  },
  {
   "cell_type": "code",
   "execution_count": 1,
   "metadata": {},
   "outputs": [
    {
     "name": "stdout",
     "output_type": "stream",
     "text": [
      "movie lens version: 25m\n",
      "\n",
      "   userId  movieId  rating           timestamp\n",
      "0       1      296     5.0 2006-05-17 15:34:04\n",
      "1       1      306     3.5 2006-05-17 12:26:57\n",
      "2       1      307     5.0 2006-05-17 12:27:08\n",
      "3       1      665     5.0 2006-05-17 15:13:40\n",
      "4       1      899     3.5 2006-05-17 12:21:50\n"
     ]
    }
   ],
   "source": [
    "from surprise import Dataset, Reader\n",
    "import pandas as pd\n",
    "import numpy as np\n",
    "from datetime import datetime as dt\n",
    "import matplotlib.pyplot as plt\n",
    "from movie_lens_data import get_movie_lens\n",
    "\n",
    "ml_ver = '25m'\n",
    "def printver():\n",
    "    print(f'movie lens version: {ml_ver}\\n')\n",
    "\n",
    "ml_ratings_df = get_movie_lens(ml_ver)\n",
    "ml_ratings_df['timestamp'] = pd.to_datetime(ml_ratings_df['timestamp'], unit='s')\n",
    "\n",
    "printver()\n",
    "print(ml_ratings_df.head(5))"
   ]
  },
  {
   "cell_type": "code",
   "execution_count": 2,
   "metadata": {},
   "outputs": [
    {
     "name": "stdout",
     "output_type": "stream",
     "text": [
      "<class 'pandas.core.frame.DataFrame'>\n",
      "RangeIndex: 25000095 entries, 0 to 25000094\n",
      "Data columns (total 4 columns):\n",
      " #   Column     Dtype         \n",
      "---  ------     -----         \n",
      " 0   userId     int64         \n",
      " 1   movieId    int64         \n",
      " 2   rating     float64       \n",
      " 3   timestamp  datetime64[ns]\n",
      "dtypes: datetime64[ns](1), float64(1), int64(2)\n",
      "memory usage: 762.9 MB\n"
     ]
    }
   ],
   "source": [
    "ml_ratings_df.info()"
   ]
  },
  {
   "cell_type": "code",
   "execution_count": 3,
   "metadata": {},
   "outputs": [
    {
     "name": "stdout",
     "output_type": "stream",
     "text": [
      "movie lens version: 25m\n",
      "\n",
      "total_ratings_count=25000095\n",
      "unique_users=162541\n",
      "unique_movies=59047\n",
      "density='0.26%'\n",
      "possible_ratings=array([0.5, 1. , 1.5, 2. , 2.5, 3. , 3.5, 4. , 4.5, 5. ])\n"
     ]
    }
   ],
   "source": [
    "printver()\n",
    "\n",
    "total_ratings_count = len(ml_ratings_df)\n",
    "print(f'{total_ratings_count=}')\n",
    "\n",
    "unique_users = len(ml_ratings_df['userId'].unique())\n",
    "print(f'{unique_users=}')\n",
    "\n",
    "unique_movies = len(ml_ratings_df['movieId'].unique())\n",
    "print(f'{unique_movies=}')\n",
    "\n",
    "density = total_ratings_count / (unique_users * unique_movies)\n",
    "density = str(round(density * 100, 2)) + '%'\n",
    "print(f'{density=}')\n",
    "\n",
    "possible_ratings = np.sort(ml_ratings_df.rating.unique())\n",
    "print(f'{possible_ratings=}')"
   ]
  },
  {
   "cell_type": "code",
   "execution_count": 4,
   "metadata": {},
   "outputs": [
    {
     "name": "stdout",
     "output_type": "stream",
     "text": [
      "movie lens version: 25m\n",
      "\n"
     ]
    },
    {
     "data": {
      "image/png": "[encoded data removed]",
      "text/plain": [
       "<Figure size 432x288 with 1 Axes>"
      ]
     },
     "metadata": {
      "needs_background": "light"
     },
     "output_type": "display_data"
    }
   ],
   "source": [
    "printver()\n",
    "temp, _, _ = plt.hist(ml_ratings_df.rating.to_numpy(), bins=len(possible_ratings))\n",
    "plt.xlabel('rating')\n",
    "plt.ylabel('ratings count')\n",
    "plt.title('Ratings count')\n",
    "plt.show()"
   ]
  },
  {
   "cell_type": "code",
   "execution_count": 5,
   "metadata": {},
   "outputs": [
    {
     "name": "stdout",
     "output_type": "stream",
     "text": [
      "movie lens version: 25m\n",
      "\n"
     ]
    },
    {
     "data": {
      "image/png": "[encoded data removed]",
      "text/plain": [
       "<Figure size 432x288 with 1 Axes>"
      ]
     },
     "metadata": {
      "needs_background": "light"
     },
     "output_type": "display_data"
    }
   ],
   "source": [
    "printver()\n",
    "temp, _, _ = plt.hist(ml_ratings_df[ml_ratings_df.timestamp > dt(year=2003, month=1, day=1)].rating.to_numpy(), bins=len(possible_ratings))\n",
    "plt.xlabel('rating')\n",
    "plt.ylabel('ratings count')\n",
    "plt.title('Ratings count from 2003')\n",
    "plt.show()"
   ]
  },
  {
   "cell_type": "code",
   "execution_count": 6,
   "metadata": {},
   "outputs": [
    {
     "name": "stdout",
     "output_type": "stream",
     "text": [
      "movie lens version: 25m\n",
      "\n"
     ]
    },
    {
     "data": {
      "image/png": "[encoded data removed]",
      "text/plain": [
       "<Figure size 432x288 with 1 Axes>"
      ]
     },
     "metadata": {
      "needs_background": "light"
     },
     "output_type": "display_data"
    }
   ],
   "source": [
    "printver()\n",
    "plt.hist(x=ml_ratings_df.timestamp)\n",
    "plt.title('ratings per year')\n",
    "plt.show()"
   ]
  },
  {
   "cell_type": "code",
   "execution_count": 7,
   "metadata": {},
   "outputs": [
    {
     "name": "stdout",
     "output_type": "stream",
     "text": [
      "movie lens version: 25m\n",
      "\n"
     ]
    },
    {
     "data": {
      "image/png": "[encoded data removed]",
      "text/plain": [
       "<Figure size 432x288 with 1 Axes>"
      ]
     },
     "metadata": {
      "needs_background": "light"
     },
     "output_type": "display_data"
    }
   ],
   "source": [
    "printver()\n",
    "time_np = ml_ratings_df.timestamp.to_numpy()\n",
    "rating_np = ml_ratings_df.rating.to_numpy()\n",
    "time_np = time_np[rating_np.astype(np.int) != rating_np]\n",
    "plt.hist(x=time_np)\n",
    "plt.title('ratings with halves per year [0.5, 1.5, ...]')\n",
    "plt.show()"
   ]
  },
  {
   "cell_type": "code",
   "execution_count": 14,
   "metadata": {},
   "outputs": [
    {
     "name": "stdout",
     "output_type": "stream",
     "text": [
      "movie lens version: 25m\n",
      "\n",
      "min ratings by a single user:  20\n",
      "max ratings by a single user:  32202\n"
     ]
    },
    {
     "data": {
      "image/png": "[encoded data removed]",
      "text/plain": [
       "<Figure size 432x288 with 1 Axes>"
      ]
     },
     "metadata": {
      "needs_background": "light"
     },
     "output_type": "display_data"
    }
   ],
   "source": [
    "printver()\n",
    "ratings_count_per_user = ml_ratings_df[['userId', 'movieId']].groupby('userId').count()\n",
    "print('min ratings by a single user: ', ratings_count_per_user.movieId.min())\n",
    "print('max ratings by a single user: ', ratings_count_per_user.movieId.max())\n",
    "\n",
    "ratings_count_per_user = ml_ratings_df[['userId', 'movieId']].groupby('userId').count()\n",
    "ratings_count_per_user = ratings_count_per_user['movieId'].to_numpy()\n",
    "\n",
    "u, c = np.unique(ratings_count_per_user, return_counts=True)\n",
    "u, c = u[:300], c[:300]\n",
    "\n",
    "plt.bar(u, c, width=1)\n",
    "plt.title('Number of movies rated by users')\n",
    "plt.xlabel('#ratings')\n",
    "plt.ylabel('#users')\n",
    "plt.show()"
   ]
  },
  {
   "cell_type": "code",
   "execution_count": 13,
   "metadata": {},
   "outputs": [
    {
     "name": "stdout",
     "output_type": "stream",
     "text": [
      "movie lens version: 25m\n",
      "\n",
      "min ratings for a single movie:  1\n",
      "max ratings for a single movie:  81491\n"
     ]
    },
    {
     "data": {
      "image/png": "[encoded data removed]",
      "text/plain": [
       "<Figure size 432x288 with 1 Axes>"
      ]
     },
     "metadata": {
      "needs_background": "light"
     },
     "output_type": "display_data"
    }
   ],
   "source": [
    "printver()\n",
    "ratings_count_per_movie = ml_ratings_df[['userId', 'movieId']].groupby('movieId').count()\n",
    "print('min ratings for a single movie: ', ratings_count_per_movie.userId.min())\n",
    "print('max ratings for a single movie: ', ratings_count_per_movie.userId.max())\n",
    "\n",
    "ratings_count_per_movie = ml_ratings_df[['userId', 'movieId']].groupby('movieId').count()\n",
    "ratings_count_per_movie = ratings_count_per_movie['userId'].to_numpy()\n",
    "\n",
    "u, c = np.unique(ratings_count_per_movie, return_counts=True)\n",
    "u, c = u[:100], c[:100]\n",
    "\n",
    "plt.bar(u, c, width=1)\n",
    "plt.title('Number of ratings for movies')\n",
    "plt.xlabel('#ratings')\n",
    "plt.ylabel('#movies')\n",
    "plt.show()"
   ]
  },
  {
   "cell_type": "code",
   "execution_count": 10,
   "metadata": {},
   "outputs": [
    {
     "name": "stdout",
     "output_type": "stream",
     "text": [
      "movie lens version: 25m\n",
      "\n"
     ]
    },
    {
     "data": {
      "image/png": "[encoded data removed]",
      "text/plain": [
       "<Figure size 432x288 with 1 Axes>"
      ]
     },
     "metadata": {
      "needs_background": "light"
     },
     "output_type": "display_data"
    }
   ],
   "source": [
    "printver()\n",
    "new_users = ml_ratings_df[['userId', 'timestamp']].groupby('userId').min()\n",
    "new_users = new_users.timestamp.to_numpy()\n",
    "plt.hist(new_users)\n",
    "plt.title('new users')\n",
    "plt.show()"
   ]
  },
  {
   "cell_type": "code",
   "execution_count": 11,
   "metadata": {},
   "outputs": [
    {
     "name": "stdout",
     "output_type": "stream",
     "text": [
      "movie lens version: 25m\n",
      "\n"
     ]
    },
    {
     "data": {
      "image/png": "[encoded data removed]",
      "text/plain": [
       "<Figure size 432x288 with 1 Axes>"
      ]
     },
     "metadata": {
      "needs_background": "light"
     },
     "output_type": "display_data"
    }
   ],
   "source": [
    "printver()\n",
    "movie_first_rated = ml_ratings_df[['movieId', 'timestamp']].groupby('movieId').min()\n",
    "movie_first_rated = movie_first_rated.timestamp.to_numpy()\n",
    "plt.hist(movie_first_rated)\n",
    "plt.title('new movies')\n",
    "plt.show()"
   ]
  }
 ],
 "metadata": {
  "kernelspec": {
   "display_name": "Python 3",
   "language": "python",
   "name": "python3"
  },
  "language_info": {
   "codemirror_mode": {
    "name": "ipython",
    "version": 3
   },
   "file_extension": ".py",
   "mimetype": "text/x-python",
   "name": "python",
   "nbconvert_exporter": "python",
   "pygments_lexer": "ipython3",
   "version": "3.8.0"
  }
 },
 "nbformat": 4,
 "nbformat_minor": 4
}
