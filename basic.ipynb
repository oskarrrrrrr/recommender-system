{
 "cells": [
  {
   "cell_type": "markdown",
   "metadata": {},
   "source": [
    "# import"
   ]
  },
  {
   "cell_type": "code",
   "execution_count": null,
   "metadata": {},
   "outputs": [],
   "source": [
    "from surprise import Dataset\n",
    "from surprise import Reader\n",
    "from surprise import SVD\n",
    "from surprise import SVDpp\n",
    "from surprise import KNNBasic\n",
    "from surprise.model_selection import cross_validate\n",
    "from surprise.model_selection import train_test_split"
   ]
  },
  {
   "cell_type": "markdown",
   "metadata": {},
   "source": [
    "# wczytywanie danych "
   ]
  },
  {
   "cell_type": "code",
   "execution_count": 18,
   "metadata": {},
   "outputs": [
    {
     "name": "stdout",
     "output_type": "stream",
     "text": [
      "   userId  movieId  rating  timestamp\n",
      "0       1      122     5.0  838985046\n",
      "1       1      185     5.0  838983525\n",
      "2       1      231     5.0  838983392\n",
      "3       1      292     5.0  838983421\n",
      "4       1      316     5.0  838983392\n"
     ]
    }
   ],
   "source": [
    "from movie_lens_data import get_movie_lens\n",
    "\n",
    "ml_ver = '10m'\n",
    "def printver():\n",
    "    print(f'movie lens version: {ml_ver}\\n')\n",
    "\n",
    "ml_ratings_df = get_movie_lens(ml_ver)\n",
    "\n",
    "reader = Reader(rating_scale=(1,5))\n",
    "ml_ratings_ds = Dataset.load_from_df(\n",
    "    ml_ratings_df[['userId', 'movieId', 'rating']],\n",
    "    reader)\n",
    "\n",
    "print(ml_ratings_df.head(5))"
   ]
  },
  {
   "cell_type": "markdown",
   "metadata": {},
   "source": [
    "# proste testy czasowe"
   ]
  },
  {
   "cell_type": "markdown",
   "metadata": {},
   "source": [
    "SVD najszybsze, następnie KNN i dużo wolniejsze SVD++."
   ]
  },
  {
   "cell_type": "code",
   "execution_count": 60,
   "metadata": {},
   "outputs": [
    {
     "name": "stdout",
     "output_type": "stream",
     "text": [
      "movie lens version: 100k\n",
      "\n",
      "Evaluating RMSE, MAE of algorithm SVD on 3 split(s).\n",
      "\n",
      "                  Fold 1  Fold 2  Fold 3  Mean    Std     \n",
      "RMSE (testset)    0.9509  0.9395  0.9460  0.9455  0.0047  \n",
      "MAE (testset)     0.7514  0.7427  0.7456  0.7466  0.0036  \n",
      "Fit time          4.04    4.11    3.63    3.93    0.21    \n",
      "Test time         0.34    0.19    0.19    0.24    0.07    \n",
      "\n",
      "Evaluating RMSE, MAE of algorithm SVDpp on 3 split(s).\n",
      "\n",
      "                  Fold 1  Fold 2  Fold 3  Mean    Std     \n",
      "RMSE (testset)    0.9295  0.9220  0.9273  0.9263  0.0032  \n",
      "MAE (testset)     0.7288  0.7242  0.7290  0.7273  0.0022  \n",
      "Fit time          121.17  147.60  129.08  132.62  11.08   \n",
      "Test time         4.83    5.15    5.37    5.12    0.22    \n",
      "\n",
      "Computing the msd similarity matrix...\n",
      "Done computing similarity matrix.\n",
      "Computing the msd similarity matrix...\n",
      "Done computing similarity matrix.\n",
      "Computing the msd similarity matrix...\n",
      "Done computing similarity matrix.\n",
      "Evaluating RMSE, MAE of algorithm KNNBasic on 3 split(s).\n",
      "\n",
      "                  Fold 1  Fold 2  Fold 3  Mean    Std     \n",
      "RMSE (testset)    0.9938  0.9861  0.9820  0.9873  0.0049  \n",
      "MAE (testset)     0.7849  0.7823  0.7758  0.7810  0.0038  \n",
      "Fit time          0.60    0.26    0.38    0.41    0.14    \n",
      "Test time         5.69    5.40    5.04    5.37    0.26    \n",
      "\n"
     ]
    }
   ],
   "source": [
    "# cross validation, RMSE, MAE\n",
    "printver()\n",
    "pred_algs = [SVD(), SVDpp(), KNNBasic()]\n",
    "for alg in pred_algs:\n",
    "    cross_validate(alg, data, measures=['RMSE', 'MAE'], cv=3, verbose=True)\n",
    "    print('')"
   ]
  },
  {
   "cell_type": "code",
   "execution_count": 23,
   "metadata": {},
   "outputs": [
    {
     "name": "stdout",
     "output_type": "stream",
     "text": [
      "movie lens version: 10m\n",
      "\n",
      "SVD\n",
      "53 ms ± 0 ns per loop (mean ± std. dev. of 1 run, 1 loop each)\n",
      "SVDpp\n",
      "4.89 s ± 0 ns per loop (mean ± std. dev. of 1 run, 1 loop each)\n",
      "KNNBasic\n",
      "Computing the msd similarity matrix...\n",
      "Done computing similarity matrix.\n",
      "719 ms ± 0 ns per loop (mean ± std. dev. of 1 run, 1 loop each)\n"
     ]
    }
   ],
   "source": [
    "printver()\n",
    "train_data, test_data = train_test_split(ml_ratings_ds, test_size=10000)\n",
    "pred_algs = [SVD(), SVDpp(), KNNBasic()]\n",
    "for alg in pred_algs:\n",
    "    print(type(alg).__name__)\n",
    "    alg.fit(train_data)\n",
    "    %timeit -n 1 -r 1 pred = [alg.predict(*t) for t in test_data]"
   ]
  },
  {
   "cell_type": "code",
   "execution_count": 27,
   "metadata": {},
   "outputs": [
    {
     "name": "stdout",
     "output_type": "stream",
     "text": [
      "movie lens version: 10m\n",
      "\n",
      "SVD\n",
      "152 ms ± 0 ns per loop (mean ± std. dev. of 1 run, 1 loop each)\n",
      "SVDpp\n",
      "5.05 s ± 0 ns per loop (mean ± std. dev. of 1 run, 1 loop each)\n",
      "KNNBasic\n",
      "Computing the msd similarity matrix...\n",
      "Done computing similarity matrix.\n",
      "853 ms ± 0 ns per loop (mean ± std. dev. of 1 run, 1 loop each)\n"
     ]
    }
   ],
   "source": [
    "from collections import defaultdict\n",
    "\n",
    "def get_top_n(predictions, n=10):\n",
    "# https://surprise.readthedocs.io/en/stable/FAQ.html#top-n-recommendations-py\n",
    "    \n",
    "    # First map the predictions to each user.\n",
    "    top_n = defaultdict(list)\n",
    "    for uid, iid, true_r, est, _ in predictions:\n",
    "        top_n[uid].append((iid, est))\n",
    "\n",
    "    # Then sort the predictions for each user and retrieve the k highest ones.\n",
    "    for uid, user_ratings in top_n.items():\n",
    "        user_ratings.sort(key=lambda x: x[1], reverse=True)\n",
    "        top_n[uid] = user_ratings[:n]\n",
    "\n",
    "    return top_n\n",
    "\n",
    "def get_preds(alg, test_data, n):\n",
    "    preds = alg.test(test_data)\n",
    "    return get_top_n(preds, 10)\n",
    "    \n",
    "printver()\n",
    "train_data, test_data = train_test_split(ml_ratings_ds, test_size=10000)\n",
    "pred_algs = [SVD(), SVDpp(), KNNBasic()]\n",
    "for alg in pred_algs:\n",
    "    print(type(alg).__name__)\n",
    "    alg.fit(train_data)\n",
    "    %timeit -n 1 -r 1 top_n = get_preds(alg, test_data, 10)"
   ]
  }
 ],
 "metadata": {
  "kernelspec": {
   "display_name": "Python 3",
   "language": "python",
   "name": "python3"
  },
  "language_info": {
   "codemirror_mode": {
    "name": "ipython",
    "version": 3
   },
   "file_extension": ".py",
   "mimetype": "text/x-python",
   "name": "python",
   "nbconvert_exporter": "python",
   "pygments_lexer": "ipython3",
   "version": "3.7.3"
  },
  "toc": {
   "base_numbering": 1,
   "nav_menu": {},
   "number_sections": false,
   "sideBar": true,
   "skip_h1_title": false,
   "title_cell": "Table of Contents",
   "title_sidebar": "Contents",
   "toc_cell": false,
   "toc_position": {},
   "toc_section_display": true,
   "toc_window_display": false
  },
  "varInspector": {
   "cols": {
    "lenName": 16,
    "lenType": 16,
    "lenVar": 40
   },
   "kernels_config": {
    "python": {
     "delete_cmd_postfix": "",
     "delete_cmd_prefix": "del ",
     "library": "var_list.py",
     "varRefreshCmd": "print(var_dic_list())"
    },
    "r": {
     "delete_cmd_postfix": ") ",
     "delete_cmd_prefix": "rm(",
     "library": "var_list.r",
     "varRefreshCmd": "cat(var_dic_list()) "
    }
   },
   "types_to_exclude": [
    "module",
    "function",
    "builtin_function_or_method",
    "instance",
    "_Feature"
   ],
   "window_display": false
  }
 },
 "nbformat": 4,
 "nbformat_minor": 2
}
